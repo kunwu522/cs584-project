{
 "cells": [
  {
   "cell_type": "markdown",
   "metadata": {},
   "source": [
    "## Preprocess Data\n",
    "\n",
    "Auther: kun wu"
   ]
  },
  {
   "cell_type": "markdown",
   "metadata": {},
   "source": [
    "### Tokenize comment text\n",
    "* tokenize\n",
    "* remove stopwords\n",
    "* stemming words"
   ]
  },
  {
   "cell_type": "code",
   "execution_count": 3,
   "metadata": {},
   "outputs": [
    {
     "data": {
      "text/html": [
       "<div>\n",
       "<style scoped>\n",
       "    .dataframe tbody tr th:only-of-type {\n",
       "        vertical-align: middle;\n",
       "    }\n",
       "\n",
       "    .dataframe tbody tr th {\n",
       "        vertical-align: top;\n",
       "    }\n",
       "\n",
       "    .dataframe thead th {\n",
       "        text-align: right;\n",
       "    }\n",
       "</style>\n",
       "<table border=\"1\" class=\"dataframe\">\n",
       "  <thead>\n",
       "    <tr style=\"text-align: right;\">\n",
       "      <th></th>\n",
       "      <th>id</th>\n",
       "      <th>comment_text</th>\n",
       "    </tr>\n",
       "  </thead>\n",
       "  <tbody>\n",
       "    <tr>\n",
<<<<<<< Updated upstream
       "      <td>0</td>\n",
=======
       "      <th>0</th>\n",
>>>>>>> Stashed changes
       "      <td>7097320</td>\n",
       "      <td>[ Integrity means that you pay your debts.]\\n\\...</td>\n",
       "    </tr>\n",
       "    <tr>\n",
<<<<<<< Updated upstream
       "      <td>1</td>\n",
=======
       "      <th>1</th>\n",
>>>>>>> Stashed changes
       "      <td>7097321</td>\n",
       "      <td>This is malfeasance by the Administrator and t...</td>\n",
       "    </tr>\n",
       "    <tr>\n",
<<<<<<< Updated upstream
       "      <td>2</td>\n",
=======
       "      <th>2</th>\n",
>>>>>>> Stashed changes
       "      <td>7097322</td>\n",
       "      <td>@Rmiller101 - Spoken like a true elitist. But ...</td>\n",
       "    </tr>\n",
       "    <tr>\n",
<<<<<<< Updated upstream
       "      <td>3</td>\n",
=======
       "      <th>3</th>\n",
>>>>>>> Stashed changes
       "      <td>7097323</td>\n",
       "      <td>Paul: Thank you for your kind words.  I do, in...</td>\n",
       "    </tr>\n",
       "    <tr>\n",
<<<<<<< Updated upstream
       "      <td>4</td>\n",
=======
       "      <th>4</th>\n",
>>>>>>> Stashed changes
       "      <td>7097324</td>\n",
       "      <td>Sorry you missed high school. Eisenhower sent ...</td>\n",
       "    </tr>\n",
       "  </tbody>\n",
       "</table>\n",
       "</div>"
      ],
      "text/plain": [
       "        id                                       comment_text\n",
       "0  7097320  [ Integrity means that you pay your debts.]\\n\\...\n",
       "1  7097321  This is malfeasance by the Administrator and t...\n",
       "2  7097322  @Rmiller101 - Spoken like a true elitist. But ...\n",
       "3  7097323  Paul: Thank you for your kind words.  I do, in...\n",
       "4  7097324  Sorry you missed high school. Eisenhower sent ..."
      ]
     },
     "execution_count": 3,
     "metadata": {},
     "output_type": "execute_result"
    }
   ],
   "source": [
    "import os\n",
    "import pandas as pd\n",
    "\n",
    "# BASE_DIR = '/home/kwu14/data/cs584_course_project/'\n",
    "BASE_DIR = '../data/'\n",
    "\n",
    "train_df = pd.read_csv(os.path.join(BASE_DIR, 'test.csv'))\n",
<<<<<<< Updated upstream
    "# train_df = train_df[:200000]\n",
=======
>>>>>>> Stashed changes
    "train_df.dropna()\n",
    "\n",
    "train_df.head()"
   ]
  },
  {
   "cell_type": "code",
   "execution_count": 4,
   "metadata": {},
   "outputs": [
    {
     "data": {
      "text/html": [
       "<div>\n",
       "<style scoped>\n",
       "    .dataframe tbody tr th:only-of-type {\n",
       "        vertical-align: middle;\n",
       "    }\n",
       "\n",
       "    .dataframe tbody tr th {\n",
       "        vertical-align: top;\n",
       "    }\n",
       "\n",
       "    .dataframe thead th {\n",
       "        text-align: right;\n",
       "    }\n",
       "</style>\n",
       "<table border=\"1\" class=\"dataframe\">\n",
       "  <thead>\n",
       "    <tr style=\"text-align: right;\">\n",
       "      <th></th>\n",
       "      <th>id</th>\n",
       "      <th>comment_text</th>\n",
       "    </tr>\n",
       "  </thead>\n",
       "  <tbody>\n",
       "    <tr>\n",
<<<<<<< Updated upstream
       "      <td>0</td>\n",
       "      <td>7097320</td>\n",
       "      <td>integr mean pay debt. appli presid trump</td>\n",
       "    </tr>\n",
       "    <tr>\n",
       "      <td>1</td>\n",
       "      <td>7097321</td>\n",
       "      <td>malfeas administr board. wast money</td>\n",
       "    </tr>\n",
       "    <tr>\n",
       "      <td>2</td>\n",
       "      <td>7097322</td>\n",
       "      <td>rmiller spoken like true elitist. look bud. re...</td>\n",
       "    </tr>\n",
       "    <tr>\n",
       "      <td>3</td>\n",
       "      <td>7097323</td>\n",
       "      <td>paul thank kind word. inde strong belief dont ...</td>\n",
       "    </tr>\n",
       "    <tr>\n",
       "      <td>4</td>\n",
       "      <td>7097324</td>\n",
       "      <td>sorri miss high school. eisenhow sent troop vi...</td>\n",
=======
       "      <th>0</th>\n",
       "      <td>7097320</td>\n",
       "      <td>integr mean pay debt appli presid trump</td>\n",
       "    </tr>\n",
       "    <tr>\n",
       "      <th>1</th>\n",
       "      <td>7097321</td>\n",
       "      <td>malfeas administr board wast money</td>\n",
       "    </tr>\n",
       "    <tr>\n",
       "      <th>2</th>\n",
       "      <td>7097322</td>\n",
       "      <td>rmiller spoken like true elitist look bud reaw...</td>\n",
       "    </tr>\n",
       "    <tr>\n",
       "      <th>3</th>\n",
       "      <td>7097323</td>\n",
       "      <td>paul thank kind word inde strong belief dont h...</td>\n",
       "    </tr>\n",
       "    <tr>\n",
       "      <th>4</th>\n",
       "      <td>7097324</td>\n",
       "      <td>sorri miss high school eisenhow sent troop vie...</td>\n",
>>>>>>> Stashed changes
       "    </tr>\n",
       "  </tbody>\n",
       "</table>\n",
       "</div>"
      ],
      "text/plain": [
       "        id                                       comment_text\n",
<<<<<<< Updated upstream
       "0  7097320           integr mean pay debt. appli presid trump\n",
       "1  7097321                malfeas administr board. wast money\n",
       "2  7097322  rmiller spoken like true elitist. look bud. re...\n",
       "3  7097323  paul thank kind word. inde strong belief dont ...\n",
       "4  7097324  sorri miss high school. eisenhow sent troop vi..."
=======
       "0  7097320            integr mean pay debt appli presid trump\n",
       "1  7097321                 malfeas administr board wast money\n",
       "2  7097322  rmiller spoken like true elitist look bud reaw...\n",
       "3  7097323  paul thank kind word inde strong belief dont h...\n",
       "4  7097324  sorri miss high school eisenhow sent troop vie..."
>>>>>>> Stashed changes
      ]
     },
     "execution_count": 4,
     "metadata": {},
     "output_type": "execute_result"
    }
   ],
   "source": [
    "from kwtokenizer import sentence_tokenize\n",
    "\n",
    "vocab = []\n",
    "\n",
    "def tokenize_comment_text(text):\n",
    "    if pd.isna(text):\n",
    "        return ''\n",
    "    \n",
    "    sents = sentence_tokenize(text, no_stopwords=True, stem=True)\n",
    "    sents = [' '.join(tokens) for tokens in sents]\n",
    "    return '. '.join(sents)\n",
    "    \n",
    "\n",
    "train_df['comment_text'] = train_df['comment_text'].apply(lambda x:tokenize_comment_text(x))\n",
    "\n",
    "train_df.head()"
   ]
  },
  {
   "cell_type": "code",
   "execution_count": 6,
   "metadata": {},
   "outputs": [
    {
     "name": "stdout",
     "output_type": "stream",
     "text": [
      "at 0, integr mean pay debt. appli presid trump\n",
      "at 1, malfeas administr board. wast money\n",
      "at 2, rmiller spoken like true elitist. look bud. reawaken europ brexit trump victori begin. unwash mass come ilk\n",
      "at 3, paul thank kind word. inde strong belief dont hide. base fact valu. think question bias prejudic come play discuss belief attitud base valu. one poster friend exampl often comment intoler bias exampl bias. imo concept irraton antipathi import. dislik neonazi view race antipathi base fact knowledg view valu belief condemn other racereligion wrong. instead dislik german imo would repres bias. irrat antipathi. sinc german condemn other racereligion. discuss bias question anoth respons. interest topic id enjoy discuss wyou sometim. give call. gari crum\n",
      "at 4, sorri miss high school. eisenhow sent troop vietnam french withdrew america provid cost war. wwi wwii democrat presid last win republican surrend korea vietnam fail win desert storm two war\n",
      "at 5, let see understand berkowitz announc surplus rail proposit would constrain abil confisc even money citizen. berkowitz alli assembl chang tax cap languag facilit confisc greater amount citizen money. would mayor profess fidel taxpay chang law enabl take money. probabl plan take money. berkowitz said proposit pass sever constrain abil give properti tax relief. berkowitz want abil confisc citizen money provid properti relief. take less money first place. let hope proposit pass\n",
      "at 6, oil read presid take differ tactic deal corrupt malign hipoctit one way press. idiot forget wit last elect process\n",
      "at 7, work togeth. dream. liber alreadi busi creat next scandalcrim accus presid trump sinc lose polici debat everi time. snivel statist traitor ground dirt never ever let qwest destroy countri mean avail. sure\n",
      "at 8, would jerri prevo think stori. exact think\n",
      "at 9, wil indigen account take respons instead blame other. account pay way go alon\n"
     ]
    }
   ],
   "source": [
<<<<<<< Updated upstream
    "for i in range(10):\n",
    "    print(f'at {i}, {train_df[\"comment_text\"][i]}')"
=======
    "# train_df['target'] = train_df['target'].apply(lambda x: 1 if x > 0.5 else 0)"
>>>>>>> Stashed changes
   ]
  },
  {
   "cell_type": "markdown",
   "metadata": {},
   "source": [
    "#### Save to file for future use"
   ]
  },
  {
   "cell_type": "code",
<<<<<<< Updated upstream
   "execution_count": 4,
=======
   "execution_count": 7,
>>>>>>> Stashed changes
   "metadata": {},
   "outputs": [],
   "source": [
    "train_df.to_csv(os.path.join(BASE_DIR, 'preprocessed_test.csv'))"
   ]
  },
  {
   "cell_type": "code",
   "execution_count": null,
   "metadata": {},
   "outputs": [],
   "source": []
  }
 ],
 "metadata": {
  "kernelspec": {
   "display_name": "Python 3",
   "language": "python",
   "name": "python3"
  },
  "language_info": {
   "codemirror_mode": {
    "name": "ipython",
    "version": 3
   },
   "file_extension": ".py",
   "mimetype": "text/x-python",
   "name": "python",
   "nbconvert_exporter": "python",
   "pygments_lexer": "ipython3",
   "version": "3.7.4"
  }
 },
 "nbformat": 4,
 "nbformat_minor": 2
}
